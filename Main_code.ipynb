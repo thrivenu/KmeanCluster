{
 "cells": [
  {
   "cell_type": "code",
   "execution_count": 1,
   "id": "2c18a472",
   "metadata": {},
   "outputs": [],
   "source": [
    "import os\n",
    "#from test_helper import Test\n",
    "\n",
    "# Change to the location of data files\n",
    "# use ml-latest-small first; then on ml-latest if everything works well\n",
    "dbfs_dir = 's3://geomapping/outputfolder'\n",
    "devicestatus_filename = dbfs_dir + '/devicestatus.csv'\n",
    "movies_filename = dbfs_dir + '/movies.csv'"
   ]
  },
  {
   "cell_type": "code",
   "execution_count": 4,
   "id": "e761b3b3",
   "metadata": {},
   "outputs": [],
   "source": [
    "import pyspark"
   ]
  },
  {
   "cell_type": "code",
   "execution_count": 7,
   "id": "54be0b24",
   "metadata": {},
   "outputs": [],
   "source": [
    "AWS_S3_BUCKET = os.getenv(\"AWS_S3_BUCKET\")\n",
    "AWS_ACCESS_KEY_ID = os.getenv(\"AWS_ACCESS_KEY_ID\")\n",
    "AWS_SECRET_ACCESS_KEY = os.getenv(\"AWS_SECRET_ACCESS_KEY\")\n",
    "AWS_SESSION_TOKEN = os.getenv(\"AWS_SESSION_TOKEN\")"
   ]
  },
  {
   "cell_type": "code",
   "execution_count": 8,
   "id": "1d522812",
   "metadata": {},
   "outputs": [],
   "source": [
    "conf = (pyspark.SparkConf()\n",
    "        .setAppName('app_name')\n",
    "        .set('spark.hadoop.fs.s3a.access.key', AWS_ACCESS_KEY_ID)\n",
    "        .set('spark.hadoop.fs.s3a.secret.key', AWS_SECRET_ACCESS_KEY)\n",
    ")"
   ]
  },
  {
   "cell_type": "code",
   "execution_count": 9,
   "id": "30fec94a",
   "metadata": {},
   "outputs": [
    {
     "name": "stderr",
     "output_type": "stream",
     "text": [
      "Using Spark's default log4j profile: org/apache/spark/log4j-defaults.properties\n",
      "Setting default log level to \"WARN\".\n",
      "To adjust logging level use sc.setLogLevel(newLevel). For SparkR, use setLogLevel(newLevel).\n",
      "22/05/02 17:22:53 WARN NativeCodeLoader: Unable to load native-hadoop library for your platform... using builtin-java classes where applicable\n"
     ]
    }
   ],
   "source": [
    "sc = pyspark.SparkContext(conf=conf)"
   ]
  },
  {
   "cell_type": "code",
   "execution_count": 18,
   "id": "3d7d6d2b",
   "metadata": {},
   "outputs": [],
   "source": [
    "import pandas as pd\n",
    "devicestatus_df = pd.read_csv(\n",
    "    f\"s3a://geomapping/outputfolder/devicestatus.csv\",\n",
    "    storage_options={\n",
    "        \"key\": AWS_ACCESS_KEY_ID,\n",
    "        \"secret\": AWS_SECRET_ACCESS_KEY,\n",
    "        \"token\": AWS_SESSION_TOKEN,\n",
    "    }\n",
    ")\n"
   ]
  },
  {
   "cell_type": "code",
   "execution_count": 27,
   "id": "9fd6ebc5",
   "metadata": {},
   "outputs": [
    {
     "name": "stdout",
     "output_type": "stream",
     "text": [
      "Index(['Unnamed: 0', 'Longitude', 'Latitude', 'date', 'Manufacturer',\n",
      "       'Model_Name', 'deviceid'],\n",
      "      dtype='object')\n"
     ]
    }
   ],
   "source": [
    "print(devicestatus_df.columns)"
   ]
  },
  {
   "cell_type": "code",
   "execution_count": 29,
   "id": "978db2ef",
   "metadata": {},
   "outputs": [],
   "source": [
    "alldata=devicestatus_df.drop(columns=['Unnamed: 0'])"
   ]
  },
  {
   "cell_type": "code",
   "execution_count": 99,
   "id": "b90a2872",
   "metadata": {},
   "outputs": [],
   "source": [
    "alldata.head()\n",
    "import numpy as np"
   ]
  },
  {
   "cell_type": "code",
   "execution_count": 103,
   "id": "b6abc4d8",
   "metadata": {},
   "outputs": [
    {
     "name": "stdout",
     "output_type": "stream",
     "text": [
      "Longitude       0\n",
      "Latitude        0\n",
      "date            0\n",
      "Manufacturer    0\n",
      "Model_Name      0\n",
      "deviceid        0\n",
      "dtype: int64\n"
     ]
    }
   ],
   "source": [
    "alldata.replace(to_replace=[None], value=np.nan, inplace=True)\n",
    "print(alldata.isnull().sum())"
   ]
  },
  {
   "cell_type": "code",
   "execution_count": 101,
   "id": "fc1f97b2",
   "metadata": {},
   "outputs": [],
   "source": [
    "from pyspark.sql import SQLContext\n",
    "sqlcontext = SQLContext(sc)\n",
    "s_df = sqlcontext.createDataFrame(alldata)"
   ]
  },
  {
   "cell_type": "code",
   "execution_count": 104,
   "id": "a5a9e95d",
   "metadata": {},
   "outputs": [],
   "source": [
    "convergeDist = float(0.1)\n",
    "iterationDist = float(\"inf\")\n",
    "distanceMeasure= \"euclidean\""
   ]
  },
  {
   "cell_type": "code",
   "execution_count": 39,
   "id": "d6893e37",
   "metadata": {},
   "outputs": [],
   "source": [
    "rdd=s_df.rdd"
   ]
  },
  {
   "cell_type": "code",
   "execution_count": 105,
   "id": "c2e1100f",
   "metadata": {},
   "outputs": [],
   "source": [
    "from point_utils import *"
   ]
  },
  {
   "cell_type": "code",
   "execution_count": 52,
   "id": "da9907f9",
   "metadata": {},
   "outputs": [],
   "source": [
    "latlon = rdd.map(lambda x: [LatLonPoint(x[0], x[1]), x[2:]]).cache()\n"
   ]
  },
  {
   "cell_type": "code",
   "execution_count": 59,
   "id": "28eda8f1",
   "metadata": {},
   "outputs": [
    {
     "name": "stderr",
     "output_type": "stream",
     "text": [
      "22/05/02 17:51:31 WARN TaskSetManager: Stage 12 contains a task of very large size (1382 KiB). The maximum recommended task size is 1000 KiB.\n",
      "22/05/02 17:51:31 WARN TaskSetManager: Stage 13 contains a task of very large size (1382 KiB). The maximum recommended task size is 1000 KiB.\n"
     ]
    }
   ],
   "source": [
    "centroids = latlon.map(lambda x: x[0]).takeSample(False, k, 1)\n",
    "centroids = dict(zip(range(0, k), centroids))\n"
   ]
  },
  {
   "cell_type": "code",
   "execution_count": 106,
   "id": "cdfc0d24",
   "metadata": {},
   "outputs": [],
   "source": [
    "points =rdd.map(lambda line: [latlon(line[0], line[1]), line[2:]]).cache()\n",
    "\n",
    "   "
   ]
  },
  {
   "cell_type": "code",
   "execution_count": 107,
   "id": "9158be4b",
   "metadata": {},
   "outputs": [
    {
     "name": "stderr",
     "output_type": "stream",
     "text": [
      "22/05/02 18:30:50 WARN TaskSetManager: Stage 82 contains a task of very large size (1382 KiB). The maximum recommended task size is 1000 KiB.\n",
      "22/05/02 18:30:51 WARN TaskSetManager: Stage 83 contains a task of very large size (1382 KiB). The maximum recommended task size is 1000 KiB.\n"
     ]
    }
   ],
   "source": [
    " # initialize random sample centroids\n",
    "centroids = points.map(lambda point: point[0]).takeSample(False, k)\n",
    "centroids = dict(zip(range(0,k), centroids))\n",
    "\n"
   ]
  },
  {
   "cell_type": "code",
   "execution_count": 108,
   "id": "8582e004",
   "metadata": {},
   "outputs": [],
   "source": [
    "from fix_latlon import *"
   ]
  },
  {
   "cell_type": "code",
   "execution_count": 118,
   "id": "30656c73",
   "metadata": {},
   "outputs": [
    {
     "name": "stderr",
     "output_type": "stream",
     "text": [
      "22/05/02 18:38:53 WARN TaskSetManager: Stage 87 contains a task of very large size (1382 KiB). The maximum recommended task size is 1000 KiB.\n",
      "22/05/02 18:38:54 WARN TaskSetManager: Stage 88 contains a task of very large size (1382 KiB). The maximum recommended task size is 1000 KiB.\n"
     ]
    }
   ],
   "source": [
    "convergeDist = 1\n",
    "sumDist = 2\n",
    "measure ='euclidean'\n",
    "kPoints=points.map(lambda point: point[0]).takeSample(False, k,1)"
   ]
  },
  {
   "cell_type": "code",
   "execution_count": 120,
   "id": "d327e408",
   "metadata": {},
   "outputs": [
    {
     "name": "stdout",
     "output_type": "stream",
     "text": [
      "Final centers: [<fix_latlon.latlon object at 0x7faf95e89b50>, <fix_latlon.latlon object at 0x7faf95e89390>, <fix_latlon.latlon object at 0x7faf95e89a10>, <fix_latlon.latlon object at 0x7faf95e895d0>, <fix_latlon.latlon object at 0x7faf95e89050>]\n"
     ]
    }
   ],
   "source": [
    "tempDist = 1.0\n",
    "while tempDist > convergeDist:\n",
    "        closest = points.map(\n",
    "            lambda p: (closestPoint(p, kPoints), (p, 1)))\n",
    "        pointStats = closest.reduceByKey(\n",
    "            lambda p1_c1, p2_c2: (p1_c1[0] + p2_c2[0], p1_c1[1] + p2_c2[1]))\n",
    "        newPoints = pointStats.map(\n",
    "            lambda st: (st[0], st[1][0] / st[1][1])).collect()\n",
    "\n",
    "        tempDist = sum(np.sum((kPoints[iK] - p) ** 2) for (iK, p) in newPoints)\n",
    "\n",
    "        for (iK, p) in newPoints:\n",
    "            kPoints[iK] = p\n",
    "        centroids = newPoints.collectAsMap()\n",
    "print(\"Final centers: \" + str(kPoints))"
   ]
  },
  {
   "cell_type": "code",
   "execution_count": 128,
   "id": "4c0e8376",
   "metadata": {},
   "outputs": [
    {
     "name": "stdout",
     "output_type": "stream",
     "text": [
      "0,23416.0,-118.229233586\n",
      "1,6568.0,-122.085879242\n",
      "2,11867.0,-117.154222042\n",
      "3,32214.0,-118.339530341\n",
      "4,41676.0,-114.611944456\n"
     ]
    }
   ],
   "source": [
    "result_b = []\n",
    "for idx, centroid in centroids.items():\n",
    "        print (str(idx) + \",\" + str(centroid.lat) + \",\" + str(centroid.lon))\n",
    "        result_b.append(str(idx) + \",\" + str(centroid.lat) + \",\" + str(centroid.lon)) \n"
   ]
  },
  {
   "cell_type": "code",
   "execution_count": 136,
   "id": "e954e9a5",
   "metadata": {},
   "outputs": [],
   "source": [
    "result_b\n",
    "df = pd.DataFrame(result_b)\n",
    "df[['index','Latitude','Longitude']]=df[0].str.split(',', expand=True)"
   ]
  },
  {
   "cell_type": "code",
   "execution_count": 144,
   "id": "114125f2",
   "metadata": {},
   "outputs": [],
   "source": [
    "df=df.drop(columns=[0])"
   ]
  },
  {
   "cell_type": "code",
   "execution_count": 145,
   "id": "54123f2b",
   "metadata": {},
   "outputs": [
    {
     "data": {
      "text/html": [
       "<div>\n",
       "<style scoped>\n",
       "    .dataframe tbody tr th:only-of-type {\n",
       "        vertical-align: middle;\n",
       "    }\n",
       "\n",
       "    .dataframe tbody tr th {\n",
       "        vertical-align: top;\n",
       "    }\n",
       "\n",
       "    .dataframe thead th {\n",
       "        text-align: right;\n",
       "    }\n",
       "</style>\n",
       "<table border=\"1\" class=\"dataframe\">\n",
       "  <thead>\n",
       "    <tr style=\"text-align: right;\">\n",
       "      <th></th>\n",
       "      <th>index</th>\n",
       "      <th>Latitude</th>\n",
       "      <th>Longitude</th>\n",
       "    </tr>\n",
       "  </thead>\n",
       "  <tbody>\n",
       "    <tr>\n",
       "      <th>0</th>\n",
       "      <td>0</td>\n",
       "      <td>23416.0</td>\n",
       "      <td>-118.229233586</td>\n",
       "    </tr>\n",
       "    <tr>\n",
       "      <th>1</th>\n",
       "      <td>1</td>\n",
       "      <td>6568.0</td>\n",
       "      <td>-122.085879242</td>\n",
       "    </tr>\n",
       "    <tr>\n",
       "      <th>2</th>\n",
       "      <td>2</td>\n",
       "      <td>11867.0</td>\n",
       "      <td>-117.154222042</td>\n",
       "    </tr>\n",
       "    <tr>\n",
       "      <th>3</th>\n",
       "      <td>3</td>\n",
       "      <td>32214.0</td>\n",
       "      <td>-118.339530341</td>\n",
       "    </tr>\n",
       "    <tr>\n",
       "      <th>4</th>\n",
       "      <td>4</td>\n",
       "      <td>41676.0</td>\n",
       "      <td>-114.611944456</td>\n",
       "    </tr>\n",
       "  </tbody>\n",
       "</table>\n",
       "</div>"
      ],
      "text/plain": [
       "  index Latitude       Longitude\n",
       "0     0  23416.0  -118.229233586\n",
       "1     1   6568.0  -122.085879242\n",
       "2     2  11867.0  -117.154222042\n",
       "3     3  32214.0  -118.339530341\n",
       "4     4  41676.0  -114.611944456"
      ]
     },
     "execution_count": 145,
     "metadata": {},
     "output_type": "execute_result"
    }
   ],
   "source": [
    "df.head()"
   ]
  },
  {
   "cell_type": "code",
   "execution_count": null,
   "id": "67b46c68",
   "metadata": {},
   "outputs": [],
   "source": [
    "df.to_csv(\"next.txt\")"
   ]
  },
  {
   "cell_type": "code",
   "execution_count": null,
   "id": "d305c936",
   "metadata": {},
   "outputs": [],
   "source": []
  },
  {
   "cell_type": "code",
   "execution_count": null,
   "id": "91b18350",
   "metadata": {},
   "outputs": [],
   "source": []
  },
  {
   "cell_type": "code",
   "execution_count": null,
   "id": "397805b1",
   "metadata": {},
   "outputs": [],
   "source": []
  },
  {
   "cell_type": "code",
   "execution_count": null,
   "id": "8b007115",
   "metadata": {},
   "outputs": [],
   "source": []
  },
  {
   "cell_type": "markdown",
   "id": "18ba031d",
   "metadata": {},
   "source": [
    "install s3fs"
   ]
  },
  {
   "cell_type": "code",
   "execution_count": null,
   "id": "ee475f82",
   "metadata": {},
   "outputs": [],
   "source": []
  }
 ],
 "metadata": {
  "kernelspec": {
   "display_name": "Python 3 (ipykernel)",
   "language": "python",
   "name": "python3"
  },
  "language_info": {
   "codemirror_mode": {
    "name": "ipython",
    "version": 3
   },
   "file_extension": ".py",
   "mimetype": "text/x-python",
   "name": "python",
   "nbconvert_exporter": "python",
   "pygments_lexer": "ipython3",
   "version": "3.7.10"
  }
 },
 "nbformat": 4,
 "nbformat_minor": 5
}
