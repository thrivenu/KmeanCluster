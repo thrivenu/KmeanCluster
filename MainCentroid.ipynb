{
 "cells": [
  {
   "cell_type": "code",
   "execution_count": 3,
   "id": "2c18a472",
   "metadata": {},
   "outputs": [],
   "source": [
    "import os\n",
    "#from test_helper import Test\n",
    "\n",
    "# Change to the location of data files\n",
    "# use ml-latest-small first; then on ml-latest if everything works well\n",
    "dbfs_dir = 's3://geomapping/outputfolder'\n",
    "devicestatus_filename = dbfs_dir + '/devicestatus.csv'\n",
    "movies_filename = dbfs_dir + '/movies.csv'"
   ]
  },
  {
   "cell_type": "code",
   "execution_count": 4,
   "id": "e761b3b3",
   "metadata": {},
   "outputs": [],
   "source": [
    "import pyspark"
   ]
  },
  {
   "cell_type": "code",
   "execution_count": 5,
   "id": "54be0b24",
   "metadata": {},
   "outputs": [],
   "source": [
    "AWS_S3_BUCKET = os.getenv(\"AWS_S3_BUCKET\")\n",
    "AWS_ACCESS_KEY_ID = os.getenv(\"AWS_ACCESS_KEY_ID\")\n",
    "AWS_SECRET_ACCESS_KEY = os.getenv(\"AWS_SECRET_ACCESS_KEY\")\n",
    "AWS_SESSION_TOKEN = os.getenv(\"AWS_SESSION_TOKEN\")"
   ]
  },
  {
   "cell_type": "code",
   "execution_count": 6,
   "id": "30fec94a",
   "metadata": {},
   "outputs": [
    {
     "name": "stderr",
     "output_type": "stream",
     "text": [
      "Using Spark's default log4j profile: org/apache/spark/log4j-defaults.properties\n",
      "Setting default log level to \"WARN\".\n",
      "To adjust logging level use sc.setLogLevel(newLevel). For SparkR, use setLogLevel(newLevel).\n",
      "22/05/03 16:20:38 WARN NativeCodeLoader: Unable to load native-hadoop library for your platform... using builtin-java classes where applicable\n"
     ]
    }
   ],
   "source": [
    "sc = pyspark.SparkContext()"
   ]
  },
  {
   "cell_type": "code",
   "execution_count": 7,
   "id": "3d7d6d2b",
   "metadata": {},
   "outputs": [],
   "source": [
    "import pandas as pd\n",
    "devicestatus_df = pd.read_csv(\n",
    "    f\"s3a://geomapping/outputfolder/devicestatus.csv\",\n",
    "    storage_options={\n",
    "        \"key\": AWS_ACCESS_KEY_ID,\n",
    "        \"secret\": AWS_SECRET_ACCESS_KEY,\n",
    "        \"token\": AWS_SESSION_TOKEN,\n",
    "    }\n",
    ")\n"
   ]
  },
  {
   "cell_type": "code",
   "execution_count": 8,
   "id": "9fd6ebc5",
   "metadata": {},
   "outputs": [
    {
     "name": "stdout",
     "output_type": "stream",
     "text": [
      "Index(['Unnamed: 0', 'Longitude', 'Latitude', 'date', 'Manufacturer',\n",
      "       'Model_Name', 'deviceid'],\n",
      "      dtype='object')\n"
     ]
    }
   ],
   "source": [
    "print(devicestatus_df.columns)"
   ]
  },
  {
   "cell_type": "code",
   "execution_count": 9,
   "id": "978db2ef",
   "metadata": {},
   "outputs": [],
   "source": [
    "alldata=devicestatus_df.drop(columns=['Unnamed: 0'])"
   ]
  },
  {
   "cell_type": "code",
   "execution_count": 10,
   "id": "b90a2872",
   "metadata": {},
   "outputs": [],
   "source": [
    "alldata.head()\n",
    "import numpy as np"
   ]
  },
  {
   "cell_type": "code",
   "execution_count": 11,
   "id": "b6abc4d8",
   "metadata": {},
   "outputs": [
    {
     "name": "stdout",
     "output_type": "stream",
     "text": [
      "Longitude       0\n",
      "Latitude        0\n",
      "date            0\n",
      "Manufacturer    0\n",
      "Model_Name      0\n",
      "deviceid        0\n",
      "dtype: int64\n"
     ]
    }
   ],
   "source": [
    "alldata.replace(to_replace=[None], value=np.nan, inplace=True)\n",
    "print(alldata.isnull().sum())"
   ]
  },
  {
   "cell_type": "code",
   "execution_count": 14,
   "id": "fc1f97b2",
   "metadata": {},
   "outputs": [],
   "source": [
    "from pyspark.sql import SQLContext\n",
    "sqlcontext = SQLContext(sc)\n",
    "s_df = sqlcontext.createDataFrame(alldata)"
   ]
  },
  {
   "cell_type": "code",
   "execution_count": 22,
   "id": "a5a9e95d",
   "metadata": {},
   "outputs": [],
   "source": [
    "convergeDist = float(0.1)\n",
    "iterationDist = float(\"inf\")\n",
    "distanceMeasure= \"euclidean\"\n",
    "k=5"
   ]
  },
  {
   "cell_type": "code",
   "execution_count": null,
   "id": "e80a2138",
   "metadata": {},
   "outputs": [],
   "source": []
  },
  {
   "cell_type": "code",
   "execution_count": 25,
   "id": "d6893e37",
   "metadata": {},
   "outputs": [],
   "source": [
    "rdd=s_df.rdd"
   ]
  },
  {
   "cell_type": "code",
   "execution_count": 52,
   "id": "c2e1100f",
   "metadata": {},
   "outputs": [],
   "source": [
    "from point_utils import *"
   ]
  },
  {
   "cell_type": "code",
   "execution_count": 32,
   "id": "cdfc0d24",
   "metadata": {},
   "outputs": [],
   "source": [
    "points =rdd.map(lambda line: [latlon(line[0], line[1]), line[2:]]).cache()\n",
    "\n",
    "   "
   ]
  },
  {
   "cell_type": "code",
   "execution_count": 33,
   "id": "8582e004",
   "metadata": {},
   "outputs": [],
   "source": [
    "from fix_latlon import *"
   ]
  },
  {
   "cell_type": "code",
   "execution_count": 48,
   "id": "5904b32b",
   "metadata": {},
   "outputs": [
    {
     "name": "stderr",
     "output_type": "stream",
     "text": [
      "22/05/03 16:25:51 WARN TaskSetManager: Stage 5 contains a task of very large size (1326 KiB). The maximum recommended task size is 1000 KiB.\n",
      "22/05/03 16:25:51 WARN TaskSetManager: Stage 6 contains a task of very large size (1326 KiB). The maximum recommended task size is 1000 KiB.\n"
     ]
    }
   ],
   "source": [
    "centroids = points.map(lambda x: x[0]).takeSample(False, k, 1)\n",
    "centroids = dict(zip(range(0, k), centroids))"
   ]
  },
  {
   "cell_type": "code",
   "execution_count": 49,
   "id": "30656c73",
   "metadata": {},
   "outputs": [
    {
     "name": "stderr",
     "output_type": "stream",
     "text": [
      "22/05/03 16:25:54 WARN TaskSetManager: Stage 7 contains a task of very large size (1326 KiB). The maximum recommended task size is 1000 KiB.\n",
      "22/05/03 16:25:55 WARN TaskSetManager: Stage 8 contains a task of very large size (1326 KiB). The maximum recommended task size is 1000 KiB.\n"
     ]
    }
   ],
   "source": [
    "convergeDist = 1\n",
    "sumDist = 2\n",
    "measure ='euclidean'\n",
    "kPoints=points.map(lambda point: point[0]).takeSample(False, k,1)"
   ]
  },
  {
   "cell_type": "code",
   "execution_count": 117,
   "id": "d327e408",
   "metadata": {},
   "outputs": [
    {
     "name": "stdout",
     "output_type": "stream",
     "text": [
      "Final centers: [<fix_latlon.latlon object at 0x7fa05f95fc90>, <fix_latlon.latlon object at 0x7fa05f95f1d0>, <fix_latlon.latlon object at 0x7fa05f95b910>, <fix_latlon.latlon object at 0x7fa05f95f890>, <fix_latlon.latlon object at 0x7fa05f95ff90>]\n"
     ]
    }
   ],
   "source": [
    "while tempDist > convergeDist:\n",
    "    closest = points.map(lambda p: (closestPoint(p, kPoints), (p, 1)))\n",
    "    pointStats = closest.reduceByKey(lambda p1_c1, p2_c2: (p1_c1[0] + p2_c2[0], p1_c1[1] + p2_c2[1]))\n",
    "    newPoints = pointStats.map(lambda st: (st[0], st[1][0] / st[1][1])).collect()\n",
    "\n",
    "    for (iK, p) in newPoints:\n",
    "        kPoints[iK] = p\n",
    "            \n",
    "    if distanceMeasure == \"greatcircle\":\n",
    "        distances = newMeans.map(lambda idx, mean: greatCircleDistance(centroids[idx], newPoints))\n",
    "    else:\n",
    "        distances = newMeans.map(lambda idx, mean: euclideanDistance(centroids[idx], newPoints))\n",
    "\n",
    "        # Use the sum of the distances between old and new centroids as the convergeDist measure\n",
    "    iterationDist = distances.sum()\n",
    "    centroids = newPoints.collectAsMap()\n",
    "print(\"Final centers: \" + str(kPoints))"
   ]
  },
  {
   "cell_type": "code",
   "execution_count": 108,
   "id": "4c0e8376",
   "metadata": {},
   "outputs": [
    {
     "name": "stdout",
     "output_type": "stream",
     "text": [
      "0,-118.081348964,34.6430342263\n",
      "1,-111.487393105,32.0851930123\n",
      "2,-119.268818405,36.8064952669\n",
      "3,-117.203004571,34.6103338865\n",
      "4,-122.416687051,42.8749132937\n"
     ]
    }
   ],
   "source": [
    "result_b = []\n",
    "for idx, centroid in centroids.items():\n",
    "        print (str(idx) + \",\" + str(centroid.lat) + \",\" + str(centroid.lon))\n",
    "        result_b.append(str(idx) + \",\" + str(centroid.lat) + \",\" + str(centroid.lon)) \n"
   ]
  },
  {
   "cell_type": "code",
   "execution_count": 109,
   "id": "e954e9a5",
   "metadata": {},
   "outputs": [],
   "source": [
    "result_b\n",
    "df = pd.DataFrame(result_b)\n",
    "df[['index','Latitude','Longitude']]=df[0].str.split(',', expand=True)"
   ]
  },
  {
   "cell_type": "code",
   "execution_count": 110,
   "id": "114125f2",
   "metadata": {},
   "outputs": [],
   "source": [
    "df=df.drop(columns=[0])"
   ]
  },
  {
   "cell_type": "code",
   "execution_count": 150,
   "id": "54123f2b",
   "metadata": {},
   "outputs": [],
   "source": [
    "df= df.astype(float)"
   ]
  },
  {
   "cell_type": "code",
   "execution_count": 151,
   "id": "7f86b47c",
   "metadata": {},
   "outputs": [
    {
     "data": {
      "text/plain": [
       "index        float64\n",
       "Latitude     float64\n",
       "Longitude    float64\n",
       "dtype: object"
      ]
     },
     "execution_count": 151,
     "metadata": {},
     "output_type": "execute_result"
    }
   ],
   "source": [
    "df.dtypes"
   ]
  },
  {
   "cell_type": "code",
   "execution_count": null,
   "id": "870201e1",
   "metadata": {},
   "outputs": [],
   "source": []
  },
  {
   "cell_type": "code",
   "execution_count": null,
   "id": "46f98504",
   "metadata": {},
   "outputs": [],
   "source": []
  }
 ],
 "metadata": {
  "kernelspec": {
   "display_name": "Python 3 (ipykernel)",
   "language": "python",
   "name": "python3"
  },
  "language_info": {
   "codemirror_mode": {
    "name": "ipython",
    "version": 3
   },
   "file_extension": ".py",
   "mimetype": "text/x-python",
   "name": "python",
   "nbconvert_exporter": "python",
   "pygments_lexer": "ipython3",
   "version": "3.7.10"
  }
 },
 "nbformat": 4,
 "nbformat_minor": 5
}
